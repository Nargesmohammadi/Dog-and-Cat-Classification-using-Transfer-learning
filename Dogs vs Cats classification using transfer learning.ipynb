{
 "cells": [
  {
   "cell_type": "code",
   "execution_count": 1,
   "id": "1d56af4c",
   "metadata": {},
   "outputs": [
    {
     "name": "stdout",
     "output_type": "stream",
     "text": [
      "Number of images: 25000\n"
     ]
    }
   ],
   "source": [
    "import os\n",
    "\n",
    "#counting the number of files in train folder\n",
    "path, dirs, files = next(os.walk('/home/mitraa/Jupyter Notebook/Dataset1/train'))\n",
    "file_count = len(files)\n",
    "print('Number of images:', file_count)"
   ]
  },
  {
   "cell_type": "code",
   "execution_count": null,
   "id": "5b67464c",
   "metadata": {},
   "outputs": [],
   "source": []
  }
 ],
 "metadata": {
  "kernelspec": {
   "display_name": "Python 3 (ipykernel)",
   "language": "python",
   "name": "python3"
  },
  "language_info": {
   "codemirror_mode": {
    "name": "ipython",
    "version": 3
   },
   "file_extension": ".py",
   "mimetype": "text/x-python",
   "name": "python",
   "nbconvert_exporter": "python",
   "pygments_lexer": "ipython3",
   "version": "3.9.7"
  }
 },
 "nbformat": 4,
 "nbformat_minor": 5
}
